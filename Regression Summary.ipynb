{
 "cells": [
  {
   "cell_type": "markdown",
   "id": "30357d49",
   "metadata": {},
   "source": [
    "### What is Regression \n",
    "1. Regression in machine learning consists of mathematical methods that allow data scientists to predict a continuous outcome (y) based on the value of one or more predictor variables (x) . \n",
    "2. Machine Learning Regression is a technique for investigating the relationship between independent variables or features (X) and a dependent variable or outcome (y). It’s used as a method for predictive modelling in machine learning, in which an algorithm is used to predict continuous outcomes.\n",
    "3. regression is one of the main applications of the supervised  type of machine learning\n",
    "4. Linear regression is also a type of machine-learning algorithm more specifically a supervised machine-learning algorithm that learns from the labelled datasets and maps the data points to the most optimized linear functions. which can be used for prediction on new datasets."
   ]
  },
  {
   "cell_type": "markdown",
   "id": "d8c1d993",
   "metadata": {},
   "source": [
    "### When to Use Regression in Machine Learning\n",
    "1. Predicting Continuous Outcomes: When the target variable is continuous and numeric, such as predicting prices, temperatures, or sales.\n",
    "2. Understanding Relationships: To understand the relationship and effect of independent variables on the dependent variable. For example, determining how different factors affect house prices.\n",
    "3. Forecasting: For time series forecasting, such as predicting stock prices or weather conditions.\n",
    "4. Feature Impact Analysis: To determine the importance or impact of various features on the target variable.\n",
    "5. Identifying Trends: To identify trends and patterns within data, helping in strategic decision-making.\n",
    "6. Risk Assessment: In financial sectors for risk assessment and in insurance to predict the likelihood of claims."
   ]
  },
  {
   "cell_type": "markdown",
   "id": "5b893fae",
   "metadata": {},
   "source": [
    "### Practical Examples of Regression\n",
    "1. Economics: Predicting economic indicators like GDP, inflation rates, or unemployment rates.\n",
    "2. Healthcare: Predicting patient outcomes such as length of stay, disease progression, or risk scores.\n",
    "3. Marketing: Forecasting sales, customer lifetime value, or the impact of marketing campaigns.\n",
    "4. Real Estate: Estimating property values based on features like location, size, and amenities.\n",
    "5. Engineering: Modeling the relationship between the physical properties of materials and their performance."
   ]
  },
  {
   "cell_type": "markdown",
   "id": "41fd779b",
   "metadata": {},
   "source": [
    "### 1. Simple Linear Regression\n",
    "https://www.javatpoint.com/simple-linear-regression-in-machine-learning\n",
    "1. it involves only one independent variable and one dependent variable \n",
    "2. The relationship shown by a Simple Linear Regression model is linear or a sloped straight line, hence it is called Simple Linear Regression\n",
    "3. The key point in Simple Linear Regression is that the dependent variable must be a continuous/real value. However, the independent variable can be measured on continuous or categorical values\n",
    "\n",
    "Simple Linear regression algorithm has mainly two objectives:\n",
    "\n",
    "a. Model the relationship between the two variables. Such as the relationship between Income and expenditure, experience and Salary, etc.\n",
    "\n",
    "b. Forecasting new observations. Such as Weather forecasting according to temperature, Revenue of a company according to the investments in a year, etc."
   ]
  },
  {
   "cell_type": "code",
   "execution_count": 2,
   "id": "fceabf6f",
   "metadata": {},
   "outputs": [],
   "source": [
    "#Code \n",
    "from sklearn.linear_model import LinearRegression\n",
    "regressor = LinearRegression()"
   ]
  },
  {
   "cell_type": "markdown",
   "id": "83985d0b",
   "metadata": {},
   "source": [
    "### 2. Multiple Linear Regression\n",
    "https://www.geeksforgeeks.org/ml-multiple-linear-regression-using-python/\n",
    "\n",
    "1. Models the linear relationship between a single dependent continuous variable and more than one independent variable\n",
    "2. Multiple regressions are used for: Planning and monitoring, Prediction or forecasting.\n",
    "\n",
    "\n",
    "\n",
    "For your model to be reliable and valid, there are some essential requirements:\n",
    "1. The independent and dependent variables are linearly related.\n",
    "2. There is no strong correlation between the independent variables.\n",
    "3. Residuals have a constant variance.\n",
    "4. Observations should be independent of one another.\n",
    "5. It is important that all variables follow multivariate normality.\n",
    "\n",
    "https://www.analyticsvidhya.com/blog/2021/05/multiple-linear-regression-using-python-and-scikit-learn/#:~:text=Multiple%20linear%20regression%20is%20an,%2C%20preprocess%2C%20and%20split%20data."
   ]
  },
  {
   "cell_type": "code",
   "execution_count": 3,
   "id": "53d13b12",
   "metadata": {},
   "outputs": [],
   "source": [
    "#Encoding the Categorical Data.\n",
    "from sklearn.compose import ColumnTransformer\n",
    "from sklearn.preprocessing import OneHotEncoder\n",
    "#ct = ColumnTransformer(transformers=[('encoder', OneHotEncoder(), [3])], remainder='passthrough')  \n",
    "#X = np.array(ct.fit_transform(X))\n",
    "\n",
    "#Training Code\n",
    "from sklearn.linear_model import LinearRegression\n",
    "regressor = LinearRegression()"
   ]
  },
  {
   "cell_type": "markdown",
   "id": "2455590b",
   "metadata": {},
   "source": [
    "### 3. Polynomial Regression\n",
    "http://surl.li/uneys\n",
    "1. Polynomial regression can be considered one of the exceptional cases of multiple linear regression models.\n",
    "https://www.javatpoint.com/machine-learning-polynomial-regression\n",
    "2. Used when we have non-linear data \n",
    "3. Polynomial regression is a form of Linear regression where only due to the Non-linear relationship between dependent and independent variables\n",
    "https://www.analyticsvidhya.com/blog/2021/07/all-you-need-to-know-about-polynomial-regression/"
   ]
  },
  {
   "cell_type": "code",
   "execution_count": 4,
   "id": "acdc6ee6",
   "metadata": {},
   "outputs": [],
   "source": [
    "# Training Data \n",
    "from sklearn.preprocessing import PolynomialFeatures\n",
    "poly_reg = PolynomialFeatures(degree = 4)\n",
    "# X_poly = poly_reg.fit_transform(X)\n",
    "# lin_reg_2 = LinearRegression()\n",
    "# lin_reg_2.fit(X_poly, y)"
   ]
  },
  {
   "cell_type": "markdown",
   "id": "b5fab863",
   "metadata": {},
   "source": [
    "### 4. Support Vector Regression (SVR) \n",
    "https://www.analyticsvidhya.com/blog/2020/03/support-vector-regression-tutorial-for-machine-learning/\n",
    "\n",
    "1. predicting continuous outputs rather than classifying data points\n",
    "2. SVR can effectively handle complex, non-linear relationships in data. \n",
    "3. To find a function that approximates the relationship between the input variables and a continuous target variable while minimizing the prediction error.\n",
    "https://www.geeksforgeeks.org/support-vector-regression-svr-using-linear-and-non-linear-kernels-in-scikit-learn/"
   ]
  },
  {
   "cell_type": "code",
   "execution_count": 8,
   "id": "1dae8e12",
   "metadata": {},
   "outputs": [],
   "source": [
    "#Training Code \n",
    "from sklearn.svm import SVR\n",
    "regressor = SVR(kernel = 'rbf')\n",
    "#regressor.fit(X, y)\n",
    "\n",
    "#Predicting a new result\n",
    "# sc_y.inverse_transform(regressor.predict(sc_X.transform([[6.5]])).reshape(-1,1))"
   ]
  },
  {
   "cell_type": "markdown",
   "id": "42d93c15",
   "metadata": {},
   "source": [
    "### 5. Decision Tree Regression\n",
    "https://pro.arcgis.com/en/pro-app/latest/tool-reference/geoai/how-decision-tree-classification-and-regression-works.htm#:~:text=Decision%20trees%20is%20a%20type,root%2C%20internal%2C%20and%20leaf.\n",
    "\n",
    "1. Decision trees is a type of supervised machine learning algorithm that is used by the Train Using AutoML tool and classifies or regresses the data using true or false answers to certain questions.\n",
    "2. The resulting structure, when visualized, is in the form of a tree with different types of nodes—root, internal, and leaf. The root node is the starting place for the decision tree, which then branches to internal nodes and leaf nodes. The leaf nodes are the final classification categories or real values. Decision trees are easy to understand and are explainable.\n",
    "3. Decision trees are a popular machine learning algorithm that can be used for both regression and classification tasks.\n",
    "https://www.saedsayad.com/decision_tree_reg.htm"
   ]
  },
  {
   "cell_type": "code",
   "execution_count": 10,
   "id": "b1f058d1",
   "metadata": {},
   "outputs": [],
   "source": [
    "#Training Decision Tree \n",
    "from sklearn.tree import DecisionTreeRegressor\n",
    "regressor = DecisionTreeRegressor(random_state = 0)\n",
    "#regressor.fit(X, y)\n",
    "\n",
    "#Predicting New Result \n",
    "#regressor.predict([[6.5]])"
   ]
  },
  {
   "cell_type": "markdown",
   "id": "18dc13fb",
   "metadata": {},
   "source": [
    "### 6. Random Forest Regression \n",
    "https://builtin.com/data-science/random-forest-python#:~:text=Random%20forest%20regression%20is%20a,trees%20while%20building%20the%20trees.\n",
    "1. Random forest regression is a supervised learning algorithm and bagging technique that uses an ensemble learning method for regression in machine learning. The trees in random forests run in parallel, meaning there is no interaction between these trees while building the trees.\n",
    "2. Random forest operates by constructing a multitude of decision trees at training time and outputting the clas s that’s the mode of the classes (classification) or mean prediction (regression) of the individual trees.\n",
    "https://www.analyticsvidhya.com/blog/2021/06/understanding-random-forest/"
   ]
  },
  {
   "cell_type": "code",
   "execution_count": 12,
   "id": "83d23fb2",
   "metadata": {},
   "outputs": [],
   "source": [
    "#Random Forest Training Code\n",
    "from sklearn.ensemble import RandomForestRegressor\n",
    "regressor = RandomForestRegressor(n_estimators = 10, random_state = 0)\n",
    "#regressor.fit(X,y)"
   ]
  }
 ],
 "metadata": {
  "kernelspec": {
   "display_name": "Python 3 (ipykernel)",
   "language": "python",
   "name": "python3"
  },
  "language_info": {
   "codemirror_mode": {
    "name": "ipython",
    "version": 3
   },
   "file_extension": ".py",
   "mimetype": "text/x-python",
   "name": "python",
   "nbconvert_exporter": "python",
   "pygments_lexer": "ipython3",
   "version": "3.11.5"
  }
 },
 "nbformat": 4,
 "nbformat_minor": 5
}
